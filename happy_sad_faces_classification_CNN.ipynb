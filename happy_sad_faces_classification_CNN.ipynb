{
  "nbformat": 4,
  "nbformat_minor": 0,
  "metadata": {
    "colab": {
      "name": "happy_sad_faces_classification_CNN.ipynb",
      "provenance": [],
      "authorship_tag": "ABX9TyPm1FIpe9i/oSMXGczMzfvL",
      "include_colab_link": true
    },
    "kernelspec": {
      "name": "python3",
      "display_name": "Python 3"
    },
    "accelerator": "GPU"
  },
  "cells": [
    {
      "cell_type": "markdown",
      "metadata": {
        "id": "view-in-github",
        "colab_type": "text"
      },
      "source": [
        "<a href=\"https://colab.research.google.com/github/koushikchimakurthi/happy_sad_faces_classification_CNN/blob/master/happy_sad_faces_classification_CNN.ipynb\" target=\"_parent\"><img src=\"https://colab.research.google.com/assets/colab-badge.svg\" alt=\"Open In Colab\"/></a>"
      ]
    },
    {
      "cell_type": "code",
      "metadata": {
        "id": "cukMC7VtjupJ",
        "colab_type": "code",
        "colab": {
          "base_uri": "https://localhost:8080/",
          "height": 202
        },
        "outputId": "1a2e32ae-8581-4f01-e3e7-158045b36324"
      },
      "source": [
        "!wget --no-check-certificate \\\n",
        "    \"https://storage.googleapis.com/laurencemoroney-blog.appspot.com/happy-or-sad.zip\" \\\n",
        "    -O \"/tmp/happy-or-sad.zip\""
      ],
      "execution_count": 1,
      "outputs": [
        {
          "output_type": "stream",
          "text": [
            "--2020-09-07 13:02:39--  https://storage.googleapis.com/laurencemoroney-blog.appspot.com/happy-or-sad.zip\n",
            "Resolving storage.googleapis.com (storage.googleapis.com)... 74.125.142.128, 74.125.195.128, 74.125.20.128, ...\n",
            "Connecting to storage.googleapis.com (storage.googleapis.com)|74.125.142.128|:443... connected.\n",
            "HTTP request sent, awaiting response... 200 OK\n",
            "Length: 2670333 (2.5M) [application/zip]\n",
            "Saving to: ‘/tmp/happy-or-sad.zip’\n",
            "\n",
            "\r/tmp/happy-or-sad.z   0%[                    ]       0  --.-KB/s               \r/tmp/happy-or-sad.z 100%[===================>]   2.55M  --.-KB/s    in 0.02s   \n",
            "\n",
            "2020-09-07 13:02:39 (108 MB/s) - ‘/tmp/happy-or-sad.zip’ saved [2670333/2670333]\n",
            "\n"
          ],
          "name": "stdout"
        }
      ]
    },
    {
      "cell_type": "code",
      "metadata": {
        "id": "ZXHnML1gj7aY",
        "colab_type": "code",
        "colab": {}
      },
      "source": [
        "import pandas as pd\n",
        "import numpy as np\n",
        "import matplotlib.pyplot as plt\n",
        "import tensorflow as tf\n",
        "from tensorflow import keras\n",
        "from tensorflow.keras.preprocessing.image import ImageDataGenerator"
      ],
      "execution_count": 2,
      "outputs": []
    },
    {
      "cell_type": "code",
      "metadata": {
        "id": "AhcOH38YkcTZ",
        "colab_type": "code",
        "colab": {}
      },
      "source": [
        "import zipfile\n",
        "local_zip = '/tmp/happy-or-sad.zip'\n",
        "with zipfile.ZipFile(local_zip, 'r') as zip_ref:\n",
        "  zip_ref.extractall('/tmp/happy-or-sad')"
      ],
      "execution_count": 3,
      "outputs": []
    },
    {
      "cell_type": "code",
      "metadata": {
        "id": "p70Vhsb_lCgz",
        "colab_type": "code",
        "colab": {}
      },
      "source": [
        "import os\n",
        "happy_dir = os.path.join('/tmp/happy-or-sad/happy')\n",
        "sad_dir = os.path.join('/tmp/happy-or-sad/sad')"
      ],
      "execution_count": 4,
      "outputs": []
    },
    {
      "cell_type": "code",
      "metadata": {
        "id": "H00ijPSxnr7a",
        "colab_type": "code",
        "colab": {
          "base_uri": "https://localhost:8080/",
          "height": 34
        },
        "outputId": "87520018-c747-4482-883b-9929c6b20d48"
      },
      "source": [
        "train_datagen = ImageDataGenerator(rescale=1/255)\n",
        "train_generator = train_datagen.flow_from_directory('/tmp/happy-or-sad',\n",
        "                                                    target_size = (300,300),\n",
        "                                                    class_mode = 'binary')"
      ],
      "execution_count": 5,
      "outputs": [
        {
          "output_type": "stream",
          "text": [
            "Found 80 images belonging to 2 classes.\n"
          ],
          "name": "stdout"
        }
      ]
    },
    {
      "cell_type": "code",
      "metadata": {
        "id": "7a99Vl42mBU4",
        "colab_type": "code",
        "colab": {}
      },
      "source": [
        "class my_callback(tf.keras.callbacks.Callback):\n",
        "  def on_epoch_end(self, epoch, logs={}):\n",
        "    if logs.get('accuracy')>0.999:\n",
        "      print(\"\\nAccuracy reached 99.9%, cancelling training..\")\n",
        "      self.model.stop_training = True"
      ],
      "execution_count": 6,
      "outputs": []
    },
    {
      "cell_type": "code",
      "metadata": {
        "id": "Tmi-Xy7RmfJS",
        "colab_type": "code",
        "colab": {}
      },
      "source": [
        "model = tf.keras.models.Sequential([keras.layers.Conv2D(16, (3,3), activation='relu', input_shape=(300,300,3)),\n",
        "                                    keras.layers.MaxPooling2D(pool_size=(2,2)),\n",
        "                                    keras.layers.Conv2D(16, (3,3), activation='relu'),\n",
        "                                    keras.layers.MaxPooling2D(pool_size=(2,2)),\n",
        "                                    keras.layers.Flatten(),\n",
        "                                    keras.layers.Dense(units=256, activation='relu'),\n",
        "                                    keras.layers.Dense(units=1, activation='sigmoid')])"
      ],
      "execution_count": 7,
      "outputs": []
    },
    {
      "cell_type": "code",
      "metadata": {
        "id": "WMn_wzTdnXhs",
        "colab_type": "code",
        "colab": {}
      },
      "source": [
        "from keras.optimizers import RMSprop\n",
        "rmsprop = RMSprop(lr=(0.001))"
      ],
      "execution_count": 8,
      "outputs": []
    },
    {
      "cell_type": "code",
      "metadata": {
        "id": "VY6cqFY4pPqK",
        "colab_type": "code",
        "colab": {}
      },
      "source": [
        "model.compile(optimizer=rmsprop, loss='binary_crossentropy', metrics=['accuracy'])"
      ],
      "execution_count": 9,
      "outputs": []
    },
    {
      "cell_type": "code",
      "metadata": {
        "id": "Ctd390GdpaNA",
        "colab_type": "code",
        "colab": {
          "base_uri": "https://localhost:8080/",
          "height": 554
        },
        "outputId": "ebaa4652-bb74-4b74-fb32-26e4e22c193d"
      },
      "source": [
        "model.fit_generator(generator=train_generator,\n",
        "                    epochs = 20,\n",
        "                    verbose = 1,\n",
        "                    callbacks = [my_callback()])"
      ],
      "execution_count": 10,
      "outputs": [
        {
          "output_type": "stream",
          "text": [
            "WARNING:tensorflow:From <ipython-input-10-452164e9aa5c>:4: Model.fit_generator (from tensorflow.python.keras.engine.training) is deprecated and will be removed in a future version.\n",
            "Instructions for updating:\n",
            "Please use Model.fit, which supports generators.\n",
            "Epoch 1/20\n",
            "3/3 [==============================] - 0s 102ms/step - loss: 43.9653 - accuracy: 0.4500\n",
            "Epoch 2/20\n",
            "3/3 [==============================] - 0s 48ms/step - loss: 2.9786 - accuracy: 0.5750\n",
            "Epoch 3/20\n",
            "3/3 [==============================] - 0s 53ms/step - loss: 0.9665 - accuracy: 0.5875\n",
            "Epoch 4/20\n",
            "3/3 [==============================] - 0s 48ms/step - loss: 0.6735 - accuracy: 0.7000\n",
            "Epoch 5/20\n",
            "3/3 [==============================] - 0s 58ms/step - loss: 0.1977 - accuracy: 0.9500\n",
            "Epoch 6/20\n",
            "3/3 [==============================] - 0s 69ms/step - loss: 0.3800 - accuracy: 0.8125\n",
            "Epoch 7/20\n",
            "3/3 [==============================] - 0s 70ms/step - loss: 1.0067 - accuracy: 0.6250\n",
            "Epoch 8/20\n",
            "3/3 [==============================] - 0s 70ms/step - loss: 0.4497 - accuracy: 0.7500\n",
            "Epoch 9/20\n",
            "3/3 [==============================] - 0s 50ms/step - loss: 0.1289 - accuracy: 0.9500\n",
            "Epoch 10/20\n",
            "3/3 [==============================] - 0s 70ms/step - loss: 0.2901 - accuracy: 0.8375\n",
            "Epoch 11/20\n",
            "3/3 [==============================] - 0s 70ms/step - loss: 0.1978 - accuracy: 0.9625\n",
            "Epoch 12/20\n",
            "3/3 [==============================] - 0s 47ms/step - loss: 0.0704 - accuracy: 0.9625\n",
            "Epoch 13/20\n",
            "3/3 [==============================] - ETA: 0s - loss: 0.0824 - accuracy: 1.0000\n",
            "Accuracy reached 99.9%, cancelling training..\n",
            "3/3 [==============================] - 0s 69ms/step - loss: 0.0824 - accuracy: 1.0000\n"
          ],
          "name": "stdout"
        },
        {
          "output_type": "execute_result",
          "data": {
            "text/plain": [
              "<tensorflow.python.keras.callbacks.History at 0x7facc9000208>"
            ]
          },
          "metadata": {
            "tags": []
          },
          "execution_count": 10
        }
      ]
    },
    {
      "cell_type": "code",
      "metadata": {
        "id": "MTomNALwpu-a",
        "colab_type": "code",
        "colab": {}
      },
      "source": [
        ""
      ],
      "execution_count": 10,
      "outputs": []
    }
  ]
}